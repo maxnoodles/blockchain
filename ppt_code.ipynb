{
 "cells": [
  {
   "cell_type": "markdown",
   "source": [
    "### 1. 交易\n",
    "\n",
    "#### 1.1 普通交易"
   ],
   "metadata": {
    "collapsed": false,
    "pycharm": {
     "name": "#%% md\n"
    }
   }
  },
  {
   "cell_type": "code",
   "execution_count": 12,
   "outputs": [
    {
     "data": {
      "text/plain": "{'from': 'alice', 'to': 'bob', 'value': 50}"
     },
     "execution_count": 12,
     "metadata": {},
     "output_type": "execute_result"
    }
   ],
   "source": [
    "def new_transaction(_from, to, value):\n",
    "    return {\n",
    "        \"from\": _from,\n",
    "        \"to\": to,\n",
    "        \"value\": value\n",
    "    }\n",
    "\n",
    "new_transaction(\"alice\", \"bob\", 50)"
   ],
   "metadata": {
    "collapsed": false,
    "pycharm": {
     "name": "#%%\n"
    }
   }
  },
  {
   "cell_type": "code",
   "execution_count": 13,
   "outputs": [
    {
     "data": {
      "text/plain": "{'from': '0', 'to': 'alice', 'value': 50}"
     },
     "execution_count": 13,
     "metadata": {},
     "output_type": "execute_result"
    }
   ],
   "source": [
    "def mine():\n",
    "    return new_transaction(\"0\", \"alice\", 50)\n",
    "\n",
    "mine()"
   ],
   "metadata": {
    "collapsed": false,
    "pycharm": {
     "name": "#%%\n"
    }
   }
  },
  {
   "cell_type": "code",
   "execution_count": 16,
   "outputs": [
    {
     "name": "stdout",
     "output_type": "stream",
     "text": [
      "{'from': '0',\n",
      " 'to': 'alice',\n",
      " 'txid': 'j9iPoqLEynzx3vzymUsa2BqVGn4cyT7expv4EUUjvwH',\n",
      " 'value': 50}\n"
     ]
    }
   ],
   "source": [
    "import json\n",
    "import hashlib\n",
    "import base58\n",
    "from pprint import pprint\n",
    "\n",
    "def new_transaction(_from, to, value):\n",
    "    trans = {\n",
    "        \"from\": _from,\n",
    "        \"to\": to,\n",
    "        \"value\": value\n",
    "    }\n",
    "    trans[\"txid\"] = _hash(trans)\n",
    "    return trans\n",
    "\n",
    "def _hash(data):\n",
    "    # 先使用 json.dumps 将字典转换为字符串\n",
    "    dump_data = json.dumps(data, sort_keys=True)\n",
    "    sha_data = hashlib.sha256(dump_data.encode())\n",
    "    # 使用 base58 对 sha256 算法获取的摘要进行编码，这样可以大幅缩小摘要的长度\n",
    "    return base58.b58encode(sha_data.digest()).decode()\n",
    "\n",
    "def mine():\n",
    "    return new_transaction(\"0\", \"alice\", 50)\n",
    "\n",
    "to_alice = mine()\n",
    "pprint(to_alice, sort_dicts=True)"
   ],
   "metadata": {
    "collapsed": false,
    "pycharm": {
     "name": "#%%\n"
    }
   }
  },
  {
   "cell_type": "code",
   "execution_count": 18,
   "outputs": [
    {
     "name": "stdout",
     "output_type": "stream",
     "text": [
      "{'from': 'j9iPoqLEynzx3vzymUsa2BqVGn4cyT7expv4EUUjvwH',\n",
      " 'to': 'bob',\n",
      " 'txid': '7qWJT6BgTC5LsaWevnZkDeRJe2awXaXwMFfiRNcR7SD9',\n",
      " 'value': 50}\n"
     ]
    }
   ],
   "source": [
    "to_bob = new_transaction(to_alice[\"txid\"], \"bob\", 50)\n",
    "pprint(to_bob, sort_dicts=True)"
   ],
   "metadata": {
    "collapsed": false,
    "pycharm": {
     "name": "#%%\n"
    }
   }
  },
  {
   "cell_type": "markdown",
   "source": [
    "#### 1.2 公钥与私钥"
   ],
   "metadata": {
    "collapsed": false,
    "pycharm": {
     "name": "#%% md\n"
    }
   }
  },
  {
   "cell_type": "code",
   "execution_count": 19,
   "outputs": [
    {
     "name": "stdout",
     "output_type": "stream",
     "text": [
      "a_pk = 3oAUXxAu9MNB44tCwiGC3Ck5Ge1X1szXELk4GYpXRMyJcACC95kQTa1SWsXdZWRWShHW5XBzTZ7DpJJr2nFpGCwK\n",
      "a_sk = 8UzgEATHABtyCmJTD2HfSbcEEM6kf3w49wsSpEYFDD3G\n"
     ]
    }
   ],
   "source": [
    "import base58\n",
    "import ecdsa\n",
    "\n",
    "CURVE = ecdsa.SECP256k1\n",
    "# 生成公钥和私钥\n",
    "def generate_ecdsa_keys():\n",
    "    # https://github.com/tlsfuzzer/python-ecdsa\n",
    "    _sk = ecdsa.SigningKey.generate(curve=CURVE)  # this is your sign (private key)\n",
    "    vk = _sk.get_verifying_key()  # this is your verification key (public key)\n",
    "    pk = base58.b58encode(vk.to_string()).decode()\n",
    "    sk = base58.b58encode(_sk.to_string()).decode()\n",
    "    return pk, sk\n",
    "\n",
    "# 使用私钥签名数据\n",
    "def sign_data(secret_key, to_sig_data: str):\n",
    "    _sk = base58.b58decode(secret_key.encode())\n",
    "    sk = ecdsa.SigningKey.from_string(_sk, curve=CURVE)\n",
    "    signature = base58.b58encode(sk.sign(to_sig_data.encode())).decode()\n",
    "    return signature\n",
    "\n",
    "# alice 的公私钥\n",
    "a_pk, a_sk = generate_ecdsa_keys()\n",
    "print(f\"a_pk = {a_pk}\")\n",
    "print(f\"a_sk = {a_sk}\")\n",
    "#a_pk = '3D7f8Ku26a5LWoM9QzL4zft9QGuypCuLvgeeP4uenWmBXCHfFR3r2eb33q2oUqzBTLh3MV2Bp7wSj7XqjtSebjhh'\n",
    "#a_sk = '7Wtwfzt5kyz6AqKorXqPNc9ifaLzVCAWZf5o4h2jpcSK'"
   ],
   "metadata": {
    "collapsed": false,
    "pycharm": {
     "name": "#%%\n"
    }
   }
  },
  {
   "cell_type": "code",
   "execution_count": 20,
   "outputs": [
    {
     "name": "stdout",
     "output_type": "stream",
     "text": [
      "b_pk = 2fKiy3HdeW7zFCUTe9TqjxRzVSdVMNxECgVW9wQvoo2NtYqSRGrXStcqc6pXHLSqf7shzSCD8NfBpju2Awhns3uq\n",
      "b_sk = 4UtrVJv7tiU2po6t69mnAtt275YUqcfSzEmuDEdqeCg8\n"
     ]
    }
   ],
   "source": [
    "b_pk, b_sk = generate_ecdsa_keys()\n",
    "print(f\"b_pk = {b_pk}\")\n",
    "print(f\"b_sk = {b_sk}\")\n"
   ],
   "metadata": {
    "collapsed": false,
    "pycharm": {
     "name": "#%%\n"
    }
   }
  },
  {
   "cell_type": "code",
   "execution_count": 21,
   "outputs": [
    {
     "name": "stdout",
     "output_type": "stream",
     "text": [
      "{'from': '0',\n",
      " 'sig': '',\n",
      " 'to': '3oAUXxAu9MNB44tCwiGC3Ck5Ge1X1szXELk4GYpXRMyJcACC95kQTa1SWsXdZWRWShHW5XBzTZ7DpJJr2nFpGCwK',\n",
      " 'txid': '3i5reCPXeurZCjq1XnsQF1g8KNWQRsCMCs8tSsVp1iW4',\n",
      " 'value': 50}\n"
     ]
    }
   ],
   "source": [
    "def new_transaction(_from, to, value, sig):\n",
    "    trans = {\n",
    "        \"from\": _from,\n",
    "        \"sig\": sig,\n",
    "        \"to\": to,\n",
    "        \"value\": value\n",
    "    }\n",
    "    trans[\"txid\"] = _hash(trans)\n",
    "    return trans\n",
    "\n",
    "def mine(pk):\n",
    "    return new_transaction(\"0\", pk, 50, '') # 创币交易不需要签名\n",
    "\n",
    "mine_trans = mine(a_pk)\n",
    "pprint(mine_trans, sort_dicts=True)"
   ],
   "metadata": {
    "collapsed": false,
    "pycharm": {
     "name": "#%%\n"
    }
   }
  },
  {
   "cell_type": "code",
   "execution_count": 22,
   "outputs": [
    {
     "data": {
      "text/plain": "{'from': '3i5reCPXeurZCjq1XnsQF1g8KNWQRsCMCs8tSsVp1iW4',\n 'sig': '5T5vG2nt5LpzaMvPXVsWamagrw1iKeVFjQcQxYbMPgueXtdHSSYULCTavhxVnwEEYBtXwGdoZ4i7MvBJ4noD8HYk',\n 'to': '2fKiy3HdeW7zFCUTe9TqjxRzVSdVMNxECgVW9wQvoo2NtYqSRGrXStcqc6pXHLSqf7shzSCD8NfBpju2Awhns3uq',\n 'value': 50,\n 'txid': '2LwmGZKQaPjq2Pq7QnEFopWVZ7m2qRcEVMiHrtpiP18d'}"
     },
     "execution_count": 22,
     "metadata": {},
     "output_type": "execute_result"
    }
   ],
   "source": [
    "m_txid = mine_trans[\"txid\"]\n",
    "# 使用私钥对数据进行签名\n",
    "a_sig = sign_data(a_sk, m_txid)\n",
    "new_transaction(m_txid, b_pk, 50, a_sig)"
   ],
   "metadata": {
    "collapsed": false,
    "pycharm": {
     "name": "#%%\n"
    }
   }
  },
  {
   "cell_type": "markdown",
   "source": [
    "#### 1.3 比特币交易脚本"
   ],
   "metadata": {
    "collapsed": false,
    "pycharm": {
     "name": "#%% md\n"
    }
   }
  },
  {
   "cell_type": "code",
   "execution_count": 23,
   "outputs": [
    {
     "name": "stdout",
     "output_type": "stream",
     "text": [
      "{'from': '0',\n",
      " 'script_pubkey': '3oAUXxAu9MNB44tCwiGC3Ck5Ge1X1szXELk4GYpXRMyJcACC95kQTa1SWsXdZWRWShHW5XBzTZ7DpJJr2nFpGCwK '\n",
      "                  'OP_CHECKSIG',\n",
      " 'script_type': 'p2pk',\n",
      " 'sig': '',\n",
      " 'txid': 'Ei8iiUTt2rJ1P6Aned5DZjErfWUJXVkvCsGe7GrFGkd3',\n",
      " 'value': 50}\n"
     ]
    }
   ],
   "source": [
    "def new_transaction(_from, script_pubkey, value, sig, script_type):\n",
    "    trans = {\n",
    "        \"from\": _from,\n",
    "        \"sig\": sig,\n",
    "        \"script_pubkey\": script_pubkey,\n",
    "        \"script_type\": script_type,\n",
    "        \"value\": value\n",
    "    }\n",
    "    if script_type == 'p2pk':\n",
    "        trans[\"script_pubkey\"] = f'{script_pubkey} OP_CHECKSIG'\n",
    "    trans[\"txid\"] = _hash(trans)\n",
    "    return trans\n",
    "\n",
    "\n",
    "def mine(script_pubkey, script_type):\n",
    "    return new_transaction(\"0\", script_pubkey, 50, '', script_type)  # 创币交易不需要签名\n",
    "\n",
    "\n",
    "# alice 的创币交易\n",
    "mine_trans = mine(a_pk, 'p2pk')\n",
    "pprint(mine_trans, sort_dicts=True)"
   ],
   "metadata": {
    "collapsed": false,
    "pycharm": {
     "name": "#%%\n"
    }
   }
  },
  {
   "cell_type": "code",
   "execution_count": 24,
   "outputs": [
    {
     "data": {
      "text/plain": "{'from': 'Ei8iiUTt2rJ1P6Aned5DZjErfWUJXVkvCsGe7GrFGkd3',\n 'sig': 'avgYYUqLfe9C2GNUDqxjmHi6yRXD6bKBzaemZ7EyXguTowPvwKKPDaYphYuMZmWJAJMZNdT51gBcfd4eLzzKwae',\n 'script_pubkey': '2fKiy3HdeW7zFCUTe9TqjxRzVSdVMNxECgVW9wQvoo2NtYqSRGrXStcqc6pXHLSqf7shzSCD8NfBpju2Awhns3uq OP_CHECKSIG',\n 'script_type': 'p2pk',\n 'value': 50,\n 'txid': 'Fp9PWqHZhBLFcosp1mnGmaeHVmdiKHCbP1Q54BreXfsJ'}"
     },
     "execution_count": 24,
     "metadata": {},
     "output_type": "execute_result"
    }
   ],
   "source": [
    "m_txid = mine_trans[\"txid\"]\n",
    "a_sig = sign_data(a_sk, m_txid)\n",
    "new_transaction(m_txid, b_pk, 50, a_sig, 'p2pk')"
   ],
   "metadata": {
    "collapsed": false,
    "pycharm": {
     "name": "#%%\n"
    }
   }
  },
  {
   "cell_type": "code",
   "execution_count": 28,
   "outputs": [
    {
     "data": {
      "text/plain": "True"
     },
     "execution_count": 28,
     "metadata": {},
     "output_type": "execute_result"
    }
   ],
   "source": [
    "def eval_script(script: str, data: str):\n",
    "    \"\"\"\n",
    "\n",
    "    :param script: 比特币脚本\n",
    "    :param data: 签名的原始数据\n",
    "    \"\"\"\n",
    "    stack = []\n",
    "    # 通过空格分离脚本的各部分 (合成脚本的时候就是使用空格拼接的)\n",
    "    tax_list = script.strip().split()\n",
    "    for tax in tax_list:\n",
    "        match tax:\n",
    "            # 检测到 OP_CHECKSIG 关键词，弹出栈顶2个元素，其中第一个是公钥，第二个是签名\n",
    "            case \"OP_CHECKSIG\":\n",
    "                # <sig> <pubk> OP_CHECKSIG\n",
    "                pubk = stack.pop()\n",
    "                sig = stack.pop()\n",
    "                # 调用函数验证签名\n",
    "                if not validate_sig_data(pubk, sig, data):\n",
    "                    return False\n",
    "            case str() as s:\n",
    "                stack.append(s)\n",
    "\n",
    "    return True if not stack else False\n",
    "\n",
    "\n",
    "# 传入公钥，签名和 签名前的数据 来验证签名是否正确。\n",
    "def validate_sig_data(public_key: str, sign: str, to_sig_data: str):\n",
    "    public_key = base58.b58decode(public_key.encode())\n",
    "    signature = base58.b58decode(sign.encode())\n",
    "    vk = ecdsa.VerifyingKey.from_string(public_key, curve=ecdsa.SECP256k1)\n",
    "    try:\n",
    "        return vk.verify(signature, to_sig_data.encode())\n",
    "    except:\n",
    "        return False\n",
    "\n",
    "script = 'avgYYUqLfe9C2GNUDqxjmHi6yRXD6bKBzaemZ7EyXguTowPvwKKPDaYphYuMZmWJAJMZNdT51gBcfd4eLzzKwae 3oAUXxAu9MNB44tCwiGC3Ck5Ge1X1szXELk4GYpXRMyJcACC95kQTa1SWsXdZWRWShHW5XBzTZ7DpJJr2nFpGCwK OP_CHECKSIG'\n",
    "data = 'Ei8iiUTt2rJ1P6Aned5DZjErfWUJXVkvCsGe7GrFGkd3'  # 创币交易的 txid\n",
    "eval_script(script, data)  # True"
   ],
   "metadata": {
    "collapsed": false,
    "pycharm": {
     "name": "#%%\n"
    }
   }
  },
  {
   "cell_type": "markdown",
   "source": [
    "#### 1.4 交易多个输入和多个输出"
   ],
   "metadata": {
    "collapsed": false,
    "pycharm": {
     "name": "#%% md\n"
    }
   }
  },
  {
   "cell_type": "code",
   "execution_count": 29,
   "outputs": [
    {
     "name": "stdout",
     "output_type": "stream",
     "text": [
      "{'txid': 'GCFvnxaA2pbV6YFc7rijcGHbFtn1LGYTrX6VLDYuz4Lw',\n",
      " 'vin': [{'txid': '0', 'vout': 0}],\n",
      " 'vout': [{'script_pubkey': '3oAUXxAu9MNB44tCwiGC3Ck5Ge1X1szXELk4GYpXRMyJcACC95kQTa1SWsXdZWRWShHW5XBzTZ7DpJJr2nFpGCwK '\n",
      "                            'OP_CHECKSIG',\n",
      "           'script_type': 'p2pk',\n",
      "           'value': 50}]}\n"
     ]
    }
   ],
   "source": [
    "def build_one_vin(txid: str, vout: str, sig: str = None):\n",
    "    \"\"\"\n",
    "    构建一个交易输入\n",
    "    :param txid: 引用的交易id\n",
    "    :param vout: 引用交易的第几个输出\n",
    "    :param sig: 签名\n",
    "    :return:\n",
    "    \"\"\"\n",
    "    _in = {\n",
    "        \"txid\": txid,\n",
    "        \"vout\": int(vout),\n",
    "    }\n",
    "    if sig:\n",
    "        _in[\"sig\"] = sig\n",
    "    return _in\n",
    "\n",
    "\n",
    "def build_one_vout(script_pubkey, value, script_type):\n",
    "    \"\"\"\n",
    "    构建一个交易输出\n",
    "    :param addr: 哈希地址\n",
    "    :param value: 数量\n",
    "    :param script_type: 脚本类型\n",
    "    :return:\n",
    "    \"\"\"\n",
    "    out = {\n",
    "        \"script_type\": script_type,\n",
    "        \"value\": value,\n",
    "    }\n",
    "    if script_type == 'p2pk':\n",
    "        out[\"script_pubkey\"] = f'{script_pubkey} OP_CHECKSIG'\n",
    "    return out\n",
    "\n",
    "\n",
    "def new_transaction(txid_in_list: list, out_list: list):\n",
    "    \"\"\"\n",
    "    :param txid_in_list: [(txid, vout, sig)]\n",
    "    :param out_list: [(script_pubkey, value, script_type)]\n",
    "    \"\"\"\n",
    "    vin_list = [build_one_vin(*i) for i in txid_in_list]\n",
    "    vout_list = [build_one_vout(*i) for i in out_list]\n",
    "    trans = {\n",
    "        \"vin\": vin_list,\n",
    "        \"vout\": vout_list\n",
    "    }\n",
    "    trans[\"txid\"] = _hash(trans)\n",
    "    return trans\n",
    "\n",
    "\n",
    "def mine(script_pubkey, script_type):\n",
    "    # 修改成新的调用方式\n",
    "    return new_transaction([(\"0\", 0)], [(script_pubkey, 50, script_type)])\n",
    "\n",
    "\n",
    "# alice 的创币交易\n",
    "m_trans = mine(a_pk, 'p2pk')\n",
    "pprint(m_trans, sort_dicts=True)"
   ],
   "metadata": {
    "collapsed": false,
    "pycharm": {
     "name": "#%%\n"
    }
   }
  },
  {
   "cell_type": "code",
   "execution_count": 30,
   "outputs": [
    {
     "name": "stdout",
     "output_type": "stream",
     "text": [
      "{'txid': '94SwTYYamGYYyKvUQ9uj3V3nfujqmzHRVPcFYNXAfJ6H',\n",
      " 'vin': [{'sig': '58b6nm6nj3brFpLZ52jN6AfKsdZeBcjkvj6jTKW6VZ44HbiLJrj9NS9F8jBf31rV1d7ofeJsiX1Et7uBoSNsgrRc',\n",
      "          'txid': 'GCFvnxaA2pbV6YFc7rijcGHbFtn1LGYTrX6VLDYuz4Lw',\n",
      "          'vout': 0}],\n",
      " 'vout': [{'script_pubkey': '2fKiy3HdeW7zFCUTe9TqjxRzVSdVMNxECgVW9wQvoo2NtYqSRGrXStcqc6pXHLSqf7shzSCD8NfBpju2Awhns3uq '\n",
      "                            'OP_CHECKSIG',\n",
      "           'script_type': 'p2pk',\n",
      "           'value': 50}]}\n"
     ]
    }
   ],
   "source": [
    "# alice 向 bob 的交易\n",
    "m_txid = m_trans[\"txid\"]\n",
    "a_sig = sign_data(a_sk, m_txid)\n",
    "vin = [(m_txid, 0, a_sig)]\n",
    "vout = [(b_pk, 50, 'p2pk')]\n",
    "\n",
    "# 向 bob 的交易\n",
    "trans = new_transaction(vin, vout)\n",
    "pprint(trans, sort_dicts=True)"
   ],
   "metadata": {
    "collapsed": false,
    "pycharm": {
     "name": "#%%\n"
    }
   }
  },
  {
   "cell_type": "markdown",
   "source": [
    "#### 1.5 UTXO"
   ],
   "metadata": {
    "collapsed": false,
    "pycharm": {
     "name": "#%% md\n"
    }
   }
  },
  {
   "cell_type": "code",
   "execution_count": 32,
   "outputs": [
    {
     "name": "stdout",
     "output_type": "stream",
     "text": [
      "{'txid': 'GCFvnxaA2pbV6YFc7rijcGHbFtn1LGYTrX6VLDYuz4Lw',\n",
      " 'vin': [{'txid': '0', 'vout': 0}],\n",
      " 'vout': [{'script_pubkey': '3oAUXxAu9MNB44tCwiGC3Ck5Ge1X1szXELk4GYpXRMyJcACC95kQTa1SWsXdZWRWShHW5XBzTZ7DpJJr2nFpGCwK '\n",
      "                            'OP_CHECKSIG',\n",
      "           'script_type': 'p2pk',\n",
      "           'value': 50}]}\n",
      "{'GCFvnxaA2pbV6YFc7rijcGHbFtn1LGYTrX6VLDYuz4Lw': {0: {'script_pubkey': '3oAUXxAu9MNB44tCwiGC3Ck5Ge1X1szXELk4GYpXRMyJcACC95kQTa1SWsXdZWRWShHW5XBzTZ7DpJJr2nFpGCwK '\n",
      "                                                                       'OP_CHECKSIG',\n",
      "                                                      'script_type': 'p2pk',\n",
      "                                                      'value': 50}}}\n"
     ]
    }
   ],
   "source": [
    "from collections import defaultdict\n",
    "\n",
    "UTXO = defaultdict(dict)\n",
    "\n",
    "def adjust_UTXO(trans):\n",
    "    \"\"\"\n",
    "    调整 UTXO\n",
    "    :param trans: 一个交易\n",
    "    \"\"\"\n",
    "    txid = trans[\"txid\"]\n",
    "    # UTXO 中删除 vin\n",
    "    for vin in trans[\"vin\"]:\n",
    "        in_txid, out = vin[\"txid\"], vin[\"vout\"]\n",
    "        if in_txid != \"0\":   # 创币交易引用的 txid 是 \"0\"，无中生有的交易，不可能在 utxo 中\n",
    "            UTXO[in_txid].pop(out)\n",
    "            if not UTXO[in_txid]:\n",
    "                UTXO.pop(in_txid)\n",
    "    # UTXO 中增加 vout\n",
    "    for idx, vout in enumerate(trans[\"vout\"]):\n",
    "        UTXO[txid][idx] = vout\n",
    "\n",
    "\n",
    "def new_transaction(txid_in_list: list, out_list: list):\n",
    "    vin_list = [build_one_vin(*i) for i in txid_in_list]\n",
    "    vout_list = [build_one_vout(*i) for i in out_list]\n",
    "    trans = {\n",
    "        \"vin\": vin_list,\n",
    "        \"vout\": vout_list\n",
    "    }\n",
    "    trans[\"txid\"] = _hash(trans)\n",
    "\n",
    "    # 维护 UTXO\n",
    "    adjust_UTXO(trans)\n",
    "    return trans\n",
    "\n",
    "# alice 的创币交易\n",
    "m_trans = mine(a_pk, 'p2pk')\n",
    "pprint(m_trans, sort_dicts=True)\n",
    "\n",
    "m_txid = m_trans[\"txid\"]\n",
    "pprint(dict(UTXO), sort_dicts=True)"
   ],
   "metadata": {
    "collapsed": false,
    "pycharm": {
     "name": "#%%\n"
    }
   }
  },
  {
   "cell_type": "markdown",
   "source": [],
   "metadata": {
    "collapsed": false,
    "pycharm": {
     "name": "#%% md\n"
    }
   }
  },
  {
   "cell_type": "code",
   "execution_count": 33,
   "outputs": [
    {
     "name": "stdout",
     "output_type": "stream",
     "text": [
      "{'txid': '9bJyU28v9gpWwJkFtWDRb5TtqN6gmHX72B9P5VWZHGho',\n",
      " 'vin': [{'sig': '2Ba9vAGmeES5ik7Rm3TDt8BThAd3WUSJU9SngAuVuQX8HDRHQCwBoWTSsfotEMGZQbCX7ntkuGD7Copx793zsZdG',\n",
      "          'txid': 'GCFvnxaA2pbV6YFc7rijcGHbFtn1LGYTrX6VLDYuz4Lw',\n",
      "          'vout': 0}],\n",
      " 'vout': [{'script_pubkey': '2fKiy3HdeW7zFCUTe9TqjxRzVSdVMNxECgVW9wQvoo2NtYqSRGrXStcqc6pXHLSqf7shzSCD8NfBpju2Awhns3uq '\n",
      "                            'OP_CHECKSIG',\n",
      "           'script_type': 'p2pk',\n",
      "           'value': 50}]}\n"
     ]
    }
   ],
   "source": [
    "# alice 向 bob 的交易\n",
    "a_sig = sign_data(a_sk, m_txid)\n",
    "vin = [(m_txid, 0, a_sig)]\n",
    "vout = [(b_pk, 50, 'p2pk')]\n",
    "r = new_transaction(vin, vout)\n",
    "pprint(r, sort_dicts=True)"
   ],
   "metadata": {
    "collapsed": false,
    "pycharm": {
     "name": "#%%\n"
    }
   }
  },
  {
   "cell_type": "code",
   "execution_count": 34,
   "outputs": [
    {
     "name": "stdout",
     "output_type": "stream",
     "text": [
      "{'9bJyU28v9gpWwJkFtWDRb5TtqN6gmHX72B9P5VWZHGho': {0: {'script_pubkey': '2fKiy3HdeW7zFCUTe9TqjxRzVSdVMNxECgVW9wQvoo2NtYqSRGrXStcqc6pXHLSqf7shzSCD8NfBpju2Awhns3uq '\n",
      "                                                                       'OP_CHECKSIG',\n",
      "                                                      'script_type': 'p2pk',\n",
      "                                                      'value': 50}}}\n"
     ]
    }
   ],
   "source": [
    "pprint(dict(UTXO), sort_dicts=True)"
   ],
   "metadata": {
    "collapsed": false,
    "pycharm": {
     "name": "#%%\n"
    }
   }
  },
  {
   "cell_type": "code",
   "execution_count": 37,
   "outputs": [
    {
     "data": {
      "text/plain": "{'vin': [{'txid': 'GCFvnxaA2pbV6YFc7rijcGHbFtn1LGYTrX6VLDYuz4Lw',\n   'vout': 0,\n   'sig': '2znw9WCAnDMTiMPZgj5QuR5J495m1WsEMedVj545cD7rcCcz4jfteWCRS59dKd9uBUdNHQnEsZMxcJ94T8Efq5F3'}],\n 'vout': [{'script_type': 'p2pk',\n   'value': 50,\n   'script_pubkey': '2fKiy3HdeW7zFCUTe9TqjxRzVSdVMNxECgVW9wQvoo2NtYqSRGrXStcqc6pXHLSqf7shzSCD8NfBpju2Awhns3uq OP_CHECKSIG'}],\n 'txid': 'b2CNmBhgXn7PyzziusKDZzykmpke8dZ5MzUDQP3vp7Z'}"
     },
     "execution_count": 37,
     "metadata": {},
     "output_type": "execute_result"
    }
   ],
   "source": [
    "# 有了 utxo, 我们可以轻松找到引用交易的输出，终于可以把验证签名的代码加入到 new_transaction 函数中了\n",
    "def new_transaction(txid_in_list: list, out_list: list):\n",
    "    vin_list = [build_one_vin(*i) for i in txid_in_list]\n",
    "    vout_list = [build_one_vout(*i) for i in out_list]\n",
    "    # 验证输入列表，错误直接抛出异常\n",
    "    is_valid_vin_list(vin_list)\n",
    "\n",
    "    trans = {\n",
    "        \"vin\": vin_list,\n",
    "        \"vout\": vout_list\n",
    "    }\n",
    "    trans[\"txid\"] = _hash(trans)\n",
    "\n",
    "    # 维护 UTXO\n",
    "    adjust_UTXO(trans)\n",
    "    return trans\n",
    "\n",
    "def is_valid_vin_list(vin_list):\n",
    "    if is_mine_trans(vin_list):\n",
    "        # 创币交易，跳过\n",
    "        return True\n",
    "\n",
    "    for vin in vin_list:\n",
    "        txid, out_idx = vin[\"txid\"], vin[\"vout\"]\n",
    "        if txid not in UTXO:\n",
    "            raise ValueError(f\"txid {txid} 无效\")\n",
    "        if out_idx not in UTXO[txid]:\n",
    "            raise ValueError(f\"txid {txid} 使用的 vout {out_idx} 无效\")\n",
    "\n",
    "        # 验证解锁脚本\n",
    "        out_data = UTXO[txid][out_idx]\n",
    "        if not eval_script(\n",
    "            f'{vin[\"sig\"]} {out_data[\"script_pubkey\"]}',\n",
    "            vin[\"txid\"],\n",
    "        ):\n",
    "            raise ValueError(f\"{txid} script result False\")\n",
    "\n",
    "def is_mine_trans(vin_list):\n",
    "    return len(vin_list) == 1 and vin_list[0][\"txid\"] == \"0\"\n",
    "\n",
    "# 清空 UTXO\n",
    "UTXO = defaultdict(dict)\n",
    "# alice 的创币交易\n",
    "m_trans = mine(a_pk, 'p2pk')\n",
    "m_txid = m_trans[\"txid\"]\n",
    "\n",
    "a_sig = sign_data(a_sk, m_txid)\n",
    "vin = [(m_txid, 0, a_sig)]\n",
    "vout = [(b_pk, 50, 'p2pk')]\n",
    "b_trans = new_transaction(vin, vout)\n",
    "b_trans"
   ],
   "metadata": {
    "collapsed": false,
    "pycharm": {
     "name": "#%%\n"
    }
   }
  },
  {
   "cell_type": "markdown",
   "source": [
    "### 2. 区块"
   ],
   "metadata": {
    "collapsed": false,
    "pycharm": {
     "name": "#%% md\n"
    }
   }
  },
  {
   "cell_type": "code",
   "execution_count": 38,
   "outputs": [
    {
     "name": "stdout",
     "output_type": "stream",
     "text": [
      "{'index': '6QSk3GkN1Ya5ssw5wshWMr7j2fEYiMeLksLdQGjqMAJe',\n",
      " 'transactions': [{'txid': 'GCFvnxaA2pbV6YFc7rijcGHbFtn1LGYTrX6VLDYuz4Lw',\n",
      "                   'vin': [{'txid': '0', 'vout': 0}],\n",
      "                   'vout': [{'script_pubkey': '3oAUXxAu9MNB44tCwiGC3Ck5Ge1X1szXELk4GYpXRMyJcACC95kQTa1SWsXdZWRWShHW5XBzTZ7DpJJr2nFpGCwK '\n",
      "                                              'OP_CHECKSIG',\n",
      "                             'script_type': 'p2pk',\n",
      "                             'value': 50}]},\n",
      "                  {'txid': 'b2CNmBhgXn7PyzziusKDZzykmpke8dZ5MzUDQP3vp7Z',\n",
      "                   'vin': [{'sig': '2znw9WCAnDMTiMPZgj5QuR5J495m1WsEMedVj545cD7rcCcz4jfteWCRS59dKd9uBUdNHQnEsZMxcJ94T8Efq5F3',\n",
      "                            'txid': 'GCFvnxaA2pbV6YFc7rijcGHbFtn1LGYTrX6VLDYuz4Lw',\n",
      "                            'vout': 0}],\n",
      "                   'vout': [{'script_pubkey': '2fKiy3HdeW7zFCUTe9TqjxRzVSdVMNxECgVW9wQvoo2NtYqSRGrXStcqc6pXHLSqf7shzSCD8NfBpju2Awhns3uq '\n",
      "                                              'OP_CHECKSIG',\n",
      "                             'script_type': 'p2pk',\n",
      "                             'value': 50}]}]}\n"
     ]
    }
   ],
   "source": [
    "def new_block(trans_list):\n",
    "    \"\"\"创建区块，传入交易列表\"\"\"\n",
    "    return {\"transactions\": trans_list, \"index\": _hash(trans_list)}\n",
    "\n",
    "# 将两笔交易打包成一个区块\n",
    "node_trans_list = [m_trans, b_trans]\n",
    "b = new_block(node_trans_list)\n",
    "pprint(b, sort_dicts=True)"
   ],
   "metadata": {
    "collapsed": false,
    "pycharm": {
     "name": "#%%\n"
    }
   }
  },
  {
   "cell_type": "markdown",
   "source": [
    "#### 2.1 哈希链接"
   ],
   "metadata": {
    "collapsed": false,
    "pycharm": {
     "name": "#%% md\n"
    }
   }
  },
  {
   "cell_type": "code",
   "execution_count": 39,
   "outputs": [
    {
     "name": "stdout",
     "output_type": "stream",
     "text": [
      "[{'index': '4hccSDZepn4jvM3XiD8F31sCuKgXcYmSoaj7PGQqJjcQ',\n",
      "  'previous_hash': '',\n",
      "  'transactions': [{'txid': 'GCFvnxaA2pbV6YFc7rijcGHbFtn1LGYTrX6VLDYuz4Lw',\n",
      "                    'vin': [{'txid': '0', 'vout': 0}],\n",
      "                    'vout': [{'script_pubkey': '3oAUXxAu9MNB44tCwiGC3Ck5Ge1X1szXELk4GYpXRMyJcACC95kQTa1SWsXdZWRWShHW5XBzTZ7DpJJr2nFpGCwK '\n",
      "                                               'OP_CHECKSIG',\n",
      "                              'script_type': 'p2pk',\n",
      "                              'value': 50}]}]}]\n"
     ]
    }
   ],
   "source": [
    "BlockChain = []\n",
    "\n",
    "# 我们将上面2个交易拆成2个区块演示一下\n",
    "# 假设 alice 的创币交易就是创世区块，此时 prvious_hash 为 ‘’\n",
    "def new_block(trans_list):\n",
    "    prv_hash = BlockChain[-1][\"index\"] if BlockChain else ''\n",
    "    block = {\"transactions\": trans_list, \"previous_hash\": prv_hash}\n",
    "    block[\"index\"] = _hash(block)\n",
    "    BlockChain.append(block)\n",
    "    return block\n",
    "\n",
    "new_block([m_trans])\n",
    "pprint(BlockChain, sort_dicts=True)"
   ],
   "metadata": {
    "collapsed": false,
    "pycharm": {
     "name": "#%%\n"
    }
   }
  },
  {
   "cell_type": "code",
   "execution_count": 40,
   "outputs": [
    {
     "name": "stdout",
     "output_type": "stream",
     "text": [
      "[{'index': '4hccSDZepn4jvM3XiD8F31sCuKgXcYmSoaj7PGQqJjcQ',\n",
      "  'previous_hash': '',\n",
      "  'transactions': [{'txid': 'GCFvnxaA2pbV6YFc7rijcGHbFtn1LGYTrX6VLDYuz4Lw',\n",
      "                    'vin': [{'txid': '0', 'vout': 0}],\n",
      "                    'vout': [{'script_pubkey': '3oAUXxAu9MNB44tCwiGC3Ck5Ge1X1szXELk4GYpXRMyJcACC95kQTa1SWsXdZWRWShHW5XBzTZ7DpJJr2nFpGCwK '\n",
      "                                               'OP_CHECKSIG',\n",
      "                              'script_type': 'p2pk',\n",
      "                              'value': 50}]}]},\n",
      " {'index': '3wbwouFDALTwA2bzRN65W32DMdiRMLk99HJo5ETJkBw5',\n",
      "  'previous_hash': '4hccSDZepn4jvM3XiD8F31sCuKgXcYmSoaj7PGQqJjcQ',\n",
      "  'transactions': [{'txid': 'b2CNmBhgXn7PyzziusKDZzykmpke8dZ5MzUDQP3vp7Z',\n",
      "                    'vin': [{'sig': '2znw9WCAnDMTiMPZgj5QuR5J495m1WsEMedVj545cD7rcCcz4jfteWCRS59dKd9uBUdNHQnEsZMxcJ94T8Efq5F3',\n",
      "                             'txid': 'GCFvnxaA2pbV6YFc7rijcGHbFtn1LGYTrX6VLDYuz4Lw',\n",
      "                             'vout': 0}],\n",
      "                    'vout': [{'script_pubkey': '2fKiy3HdeW7zFCUTe9TqjxRzVSdVMNxECgVW9wQvoo2NtYqSRGrXStcqc6pXHLSqf7shzSCD8NfBpju2Awhns3uq '\n",
      "                                               'OP_CHECKSIG',\n",
      "                              'script_type': 'p2pk',\n",
      "                              'value': 50}]}]}]\n"
     ]
    }
   ],
   "source": [
    "new_block([b_trans])\n",
    "pprint(BlockChain, sort_dicts=True)"
   ],
   "metadata": {
    "collapsed": false,
    "pycharm": {
     "name": "#%%\n"
    }
   }
  },
  {
   "cell_type": "markdown",
   "source": [
    "#### 2.2 工作量证明算法"
   ],
   "metadata": {
    "collapsed": false,
    "pycharm": {
     "name": "#%% md\n"
    }
   }
  },
  {
   "cell_type": "code",
   "execution_count": 44,
   "outputs": [
    {
     "name": "stdout",
     "output_type": "stream",
     "text": [
      "{'index': '00008b7b00863ed748bd53fb4d24a7d1243d1f8a95b401ff0167b088294157ec',\n",
      " 'previous_hash': '0000004b13c13d0b697696f536cc06ed021404f01b24a944ccea1b5c38875d44',\n",
      " 'proof': 22047,\n",
      " 'transactions': [{'txid': 'GCFvnxaA2pbV6YFc7rijcGHbFtn1LGYTrX6VLDYuz4Lw',\n",
      "                   'vin': [{'txid': '0', 'vout': 0}],\n",
      "                   'vout': [{'script_pubkey': '3oAUXxAu9MNB44tCwiGC3Ck5Ge1X1szXELk4GYpXRMyJcACC95kQTa1SWsXdZWRWShHW5XBzTZ7DpJJr2nFpGCwK '\n",
      "                                              'OP_CHECKSIG',\n",
      "                             'script_type': 'p2pk',\n",
      "                             'value': 50}]}]}\n"
     ]
    }
   ],
   "source": [
    "def proof_of_work(block: dict):\n",
    "    \"\"\"\n",
    "    简单的工作量证明算法\n",
    "    找到一个数，使得区块的hash前4位为0\n",
    "    :param block: 区块\n",
    "    :return:\n",
    "    \"\"\"\n",
    "    # 工作量证明--->穷举法计算出特殊的数\n",
    "    block_hash = _hash(block)\n",
    "    proof = 0\n",
    "    while True:\n",
    "        ret, hash_val = valid_proof(proof, block_hash)\n",
    "        if ret:\n",
    "            return proof, hash_val\n",
    "        proof += 1\n",
    "\n",
    "\n",
    "def valid_proof(proof, block_hash) -> (bool, str):\n",
    "    \"\"\"\n",
    "    验证工作量证明，计算出的hash是否正确\n",
    "    对上一个区块的proof和hash与当期区块的proof做sha256运算、\n",
    "    :param proof: 当前区块的随机数（工作量）\n",
    "    :param block_hash: 本区块的 hash\n",
    "    \"\"\"\n",
    "    guess = f\"{proof}{block_hash}\"\n",
    "    guess_hash = hashlib.sha256(guess.encode()).hexdigest()\n",
    "    return guess_hash[:4] == \"0000\", guess_hash\n",
    "\n",
    "def new_block(trans_list):\n",
    "    prv_hash = BlockChain[-1][\"index\"] if BlockChain else ''\n",
    "    block = {\"transactions\": trans_list, \"previous_hash\": prv_hash}\n",
    "    block[\"proof\"], block[\"index\"] = proof_of_work(block)\n",
    "    BlockChain.append(block)\n",
    "    return block\n",
    "\n",
    "\n",
    "block = new_block([m_trans])\n",
    "pprint(block, sort_dicts=True)"
   ],
   "metadata": {
    "collapsed": false,
    "pycharm": {
     "name": "#%%\n"
    }
   }
  },
  {
   "cell_type": "markdown",
   "source": [],
   "metadata": {
    "collapsed": false,
    "pycharm": {
     "name": "#%% md\n"
    }
   }
  },
  {
   "cell_type": "markdown",
   "source": [],
   "metadata": {
    "collapsed": false,
    "pycharm": {
     "name": "#%% md\n"
    }
   }
  },
  {
   "cell_type": "code",
   "execution_count": 46,
   "outputs": [
    {
     "name": "stdout",
     "output_type": "stream",
     "text": [
      "{'height': 0,\n",
      " 'index': '000048eb5aa1e6126f320883104fd45cd4ae9798321cac9068996a66faec5688',\n",
      " 'previous_hash': '',\n",
      " 'proof': 37444,\n",
      " 'timestamp': 1660037368.8697972,\n",
      " 'transactions': [{'txid': 'GCFvnxaA2pbV6YFc7rijcGHbFtn1LGYTrX6VLDYuz4Lw',\n",
      "                   'vin': [{'txid': '0', 'vout': 0}],\n",
      "                   'vout': [{'script_pubkey': '3oAUXxAu9MNB44tCwiGC3Ck5Ge1X1szXELk4GYpXRMyJcACC95kQTa1SWsXdZWRWShHW5XBzTZ7DpJJr2nFpGCwK '\n",
      "                                              'OP_CHECKSIG',\n",
      "                             'script_type': 'p2pk',\n",
      "                             'value': 50}]}]}\n"
     ]
    }
   ],
   "source": [
    "import time\n",
    "BlockChain = []\n",
    "def new_block(trans_list):\n",
    "    prv_hash = BlockChain[-1][\"index\"] if BlockChain else ''\n",
    "    block = {\n",
    "        \"transactions\": trans_list,\n",
    "        \"previous_hash\": prv_hash,\n",
    "        # 高度\n",
    "        \"height\": len(BlockChain),\n",
    "        # 时间戳\n",
    "        \"timestamp\": time.time(),\n",
    "    }\n",
    "    block[\"proof\"], block[\"index\"] = proof_of_work(block)\n",
    "    BlockChain.append(block)\n",
    "    return block\n",
    "\n",
    "block = new_block([m_trans])\n",
    "pprint(block, sort_dicts=True)"
   ],
   "metadata": {
    "collapsed": false,
    "pycharm": {
     "name": "#%%\n"
    }
   }
  },
  {
   "cell_type": "code",
   "execution_count": 11,
   "outputs": [
    {
     "data": {
      "text/plain": "'3YX4udWpjb7U2vTDwdMkz36y65cVroq1mnwnpy8SAkkw'"
     },
     "execution_count": 11,
     "metadata": {},
     "output_type": "execute_result"
    }
   ],
   "source": [
    "\n",
    "def hash_256(s, b58=True):\n",
    "    data = hashlib.sha256(s.encode())\n",
    "    if b58:\n",
    "        return base58.b58encode(data.digest()).decode()\n",
    "    else:\n",
    "        return data.hexdigest()\n",
    "\n",
    "h_b_pk = hash_256(b_pk)\n",
    "h_b_pk"
   ],
   "metadata": {
    "collapsed": false,
    "pycharm": {
     "name": "#%%\n"
    }
   }
  }
 ],
 "metadata": {
  "kernelspec": {
   "display_name": "Python 3",
   "language": "python",
   "name": "python3"
  },
  "language_info": {
   "codemirror_mode": {
    "name": "ipython",
    "version": 2
   },
   "file_extension": ".py",
   "mimetype": "text/x-python",
   "name": "python",
   "nbconvert_exporter": "python",
   "pygments_lexer": "ipython2",
   "version": "2.7.6"
  }
 },
 "nbformat": 4,
 "nbformat_minor": 0
}